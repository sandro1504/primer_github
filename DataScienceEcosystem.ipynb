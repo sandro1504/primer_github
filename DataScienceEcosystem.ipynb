{
 "cells": [
  {
   "cell_type": "code",
   "execution_count": null,
   "id": "bbfb35e1",
   "metadata": {},
   "outputs": [],
   "source": [
    "# Ejercicio 2: crea una celda de descuento con el título del cuaderno"
   ]
  },
  {
   "cell_type": "markdown",
   "id": "a0090d84",
   "metadata": {},
   "source": [
    "# Data Science Tools and Ecosystem"
   ]
  },
  {
   "cell_type": "code",
   "execution_count": null,
   "id": "8a092586",
   "metadata": {},
   "outputs": [],
   "source": [
    "# Ejercicio 3: crea una celda de descuento para una introducción"
   ]
  },
  {
   "cell_type": "markdown",
   "id": "a4c4d030",
   "metadata": {},
   "source": [
    " In this notebook, Data Science Tools and Ecosystem are summarized."
   ]
  },
  {
   "cell_type": "code",
   "execution_count": null,
   "id": "bc0e03ad",
   "metadata": {},
   "outputs": [],
   "source": [
    "# Ejercicio 10: inserte una celda de descuento para enumerar los objetivos"
   ]
  },
  {
   "cell_type": "markdown",
   "id": "a9c6d15a",
   "metadata": {},
   "source": [
    "**Objectives:**\n",
    "\n",
    "- List popular languages for Data Science\n",
    "- Some of the commonly used libraries used by Data Scientists\n",
    "- Data Science Tools\n",
    "- A few examples of evaluating arithmetic expressions in Python"
   ]
  },
  {
   "cell_type": "code",
   "execution_count": 3,
   "id": "bdf37ea5",
   "metadata": {},
   "outputs": [],
   "source": [
    "# Ejercicio 4: cree una celda de descuento para enumerar los lenguajes de ciencia de datos"
   ]
  },
  {
   "cell_type": "markdown",
   "id": "e5d6425b",
   "metadata": {},
   "source": [
    "#### Some of the popular languages that Data Scientists use are:\n",
    "\n",
    "1. Python\n",
    "2. SQL\n",
    "3. C++\n",
    "4. Java\n",
    "5. R\n",
    "6. C"
   ]
  },
  {
   "cell_type": "code",
   "execution_count": null,
   "id": "040c3c6a",
   "metadata": {},
   "outputs": [],
   "source": [
    "# Ejercicio 5: cree una celda de descuento para enumerar las bibliotecas de ciencia de datos"
   ]
  },
  {
   "cell_type": "markdown",
   "id": "b5416989",
   "metadata": {},
   "source": [
    "#### Some of the commonly used libraries used by Data Scientists include:\n",
    "\n",
    "1. NumPy\n",
    "2. Matplotlib\n",
    "3. Scikit-Learn\n",
    "4. SciPy\n",
    "5. TensorFlow"
   ]
  },
  {
   "cell_type": "code",
   "execution_count": null,
   "id": "8f5d572f",
   "metadata": {},
   "outputs": [],
   "source": [
    "# Ejercicio 6: cree una celda de descuento con una tabla de herramientas de ciencia de datos"
   ]
  },
  {
   "cell_type": "markdown",
   "id": "7b95e6b3",
   "metadata": {},
   "source": [
    "|Data Science Tools|\n",
    "| --------- |\n",
    "|Jupyter Notebooks|\n",
    "|RStudio|\n",
    "|Spyder|"
   ]
  },
  {
   "cell_type": "code",
   "execution_count": null,
   "id": "488e57e9",
   "metadata": {},
   "outputs": [],
   "source": [
    "# Ejercicio 7: cree una celda de descuento que presente ejemplos de expresiones aritméticas"
   ]
  },
  {
   "cell_type": "markdown",
   "id": "f43eef33",
   "metadata": {},
   "source": [
    "### Below are a few examples of evaluating arithmetic expressions in Python\n",
    "\n",
    "\n",
    "Operación de Adición:\n",
    "\n",
    "|Operación Aritmética| Ejemplo  | Salida |\n",
    "| --------- |--------- |--------- |\n",
    "|Adición|  2+2  |  4  |\n",
    "|Sustracción|  5-3  |  2  |\n",
    "|Multiplicación|  4*5  |  20  |\n",
    "|División|  6/3  |  2  |"
   ]
  },
  {
   "cell_type": "code",
   "execution_count": null,
   "id": "7ccf1023",
   "metadata": {},
   "outputs": [],
   "source": [
    "# Ejercicio 8: crea una celda de código para multiplicar y sumar números"
   ]
  },
  {
   "cell_type": "code",
   "execution_count": 6,
   "id": "6878ac75",
   "metadata": {},
   "outputs": [
    {
     "data": {
      "text/plain": [
       "17"
      ]
     },
     "execution_count": 6,
     "metadata": {},
     "output_type": "execute_result"
    }
   ],
   "source": [
    "# This a simple arithmeticexpression to mutiply then add integers\n",
    "\n",
    "(3*4)+5"
   ]
  },
  {
   "cell_type": "code",
   "execution_count": null,
   "id": "68367535",
   "metadata": {},
   "outputs": [],
   "source": [
    "# Ejercicio 9: cree una celda de código para convertir minutos a horas"
   ]
  },
  {
   "cell_type": "code",
   "execution_count": 7,
   "id": "3b2fbbc8",
   "metadata": {},
   "outputs": [
    {
     "data": {
      "text/plain": [
       "3.3333333333333335"
      ]
     },
     "execution_count": 7,
     "metadata": {},
     "output_type": "execute_result"
    }
   ],
   "source": [
    "# This will convert 200 minutes to hours by diving by 60\n",
    "\n",
    "200/60\n"
   ]
  },
  {
   "cell_type": "code",
   "execution_count": null,
   "id": "72bb293c",
   "metadata": {},
   "outputs": [],
   "source": [
    "# Ejercicio 11: cree una celda de descuento para indicar el nombre del autor"
   ]
  },
  {
   "cell_type": "markdown",
   "id": "8dae3159",
   "metadata": {},
   "source": [
    "## Author\n",
    "\n",
    "Sandro A. Castillo S."
   ]
  },
  {
   "cell_type": "code",
   "execution_count": null,
   "id": "3a3b090f",
   "metadata": {},
   "outputs": [],
   "source": []
  }
 ],
 "metadata": {
  "kernelspec": {
   "display_name": "Python 3 (ipykernel)",
   "language": "python",
   "name": "python3"
  },
  "language_info": {
   "codemirror_mode": {
    "name": "ipython",
    "version": 3
   },
   "file_extension": ".py",
   "mimetype": "text/x-python",
   "name": "python",
   "nbconvert_exporter": "python",
   "pygments_lexer": "ipython3",
   "version": "3.10.9"
  }
 },
 "nbformat": 4,
 "nbformat_minor": 5
}
